{
 "cells": [
  {
   "cell_type": "code",
   "execution_count": 1,
   "id": "d0cf7001",
   "metadata": {},
   "outputs": [],
   "source": [
    "# Data Visualization\n",
    "# BTech Computer Science Stream , January 2025\n",
    "# Week 4: Pandas, Data loading, Storage and File formats Exercises\n",
    "# Name: Param Shah , Reg No: 240905320 , Date: 3/2/2025 "
   ]
  },
  {
   "cell_type": "code",
   "execution_count": 33,
   "id": "1ef61cff",
   "metadata": {},
   "outputs": [],
   "source": [
    "import pandas as pd"
   ]
  },
  {
   "cell_type": "code",
   "execution_count": 34,
   "id": "767d3602",
   "metadata": {},
   "outputs": [],
   "source": [
    "# Question 1"
   ]
  },
  {
   "cell_type": "code",
   "execution_count": 35,
   "id": "060e6313",
   "metadata": {},
   "outputs": [
    {
     "name": "stdout",
     "output_type": "stream",
     "text": [
      "Monday       38\n",
      "Tuesday      35\n",
      "Wednesday    28\n",
      "Thursday     23\n",
      "Friday       34\n",
      "Saturday     31\n",
      "Sunday       27\n",
      "dtype: int64\n",
      "\n",
      "\n",
      "Average Temperature:  30.85714\n",
      "Maximum Temperature:  38\n",
      "Minimum Temperature:  23\n",
      "Enter Value34\n",
      "\n",
      "Temperatures in °F:\n",
      "Monday       100.4\n",
      "Tuesday       95.0\n",
      "Wednesday     82.4\n",
      "Thursday      73.4\n",
      "Friday        93.2\n",
      "Saturday      87.8\n",
      "Sunday        80.6\n",
      "dtype: float64\n",
      "\n",
      "Temperatures greater than average temperature:\n",
      "Monday      38\n",
      "Tuesday     35\n",
      "Friday      34\n",
      "Saturday    31\n",
      "dtype: int64\n",
      "\n",
      "Temperatures greater than 34°C:\n",
      "Monday     38\n",
      "Tuesday    35\n",
      "dtype: int64\n"
     ]
    }
   ],
   "source": [
    "temp_lst=[38,35,28,23,34,31,27]\n",
    "temp=pd.Series(temp_lst,index=[\"Monday\",\"Tuesday\",\"Wednesday\",\"Thursday\",\"Friday\",\"Saturday\",\"Sunday\"])\n",
    "print(temp)\n",
    "print(\"\\n\")\n",
    "print(f\"Average Temperature: \",end=\" \")\n",
    "print(f\"{temp.mean():.5f}\")\n",
    "\n",
    "print(\"Maximum Temperature: \",end=\" \")\n",
    "print(temp.max())\n",
    "\n",
    "print(\"Minimum Temperature: \",end=\" \")\n",
    "print(temp.min())\n",
    "\n",
    "value=int(input(\"Enter Value\"))\n",
    "temp_new = temp *9/5 + 32\n",
    "print(f\"\\nTemperatures in °F:\")\n",
    "print(temp_new)\n",
    "\n",
    "temp_new = temp[temp>temp.mean()]\n",
    "print(\"\\nTemperatures greater than average temperature:\")\n",
    "print(temp_new)\n",
    "\n",
    "temp_new = temp[temp > value]\n",
    "print(f\"\\nTemperatures greater than {value}°C:\")\n",
    "print(temp_new)"
   ]
  },
  {
   "cell_type": "code",
   "execution_count": 36,
   "id": "905b9a8c",
   "metadata": {},
   "outputs": [],
   "source": [
    "# Question 2"
   ]
  },
  {
   "cell_type": "code",
   "execution_count": 37,
   "id": "0bffbc29",
   "metadata": {},
   "outputs": [
    {
     "name": "stdout",
     "output_type": "stream",
     "text": [
      "Student DataFrame:\n",
      "                  Name Gender  Marks1  Marks2  Marks3\n",
      "Roll Number                                          \n",
      "1             Player 1      F      45      67      78\n",
      "2             Player 2      M      78      45      90\n",
      "3             Player 3      M      56      78      67\n",
      "4             Player 4      M      34      23      45\n",
      "5             Player 5      F      89      56      88\n",
      "6             Player 6      M      67      89      76\n",
      "7             Player 7      F      23      34      54\n",
      "8             Player 8      F      90      90      92\n",
      "9             Player 9      M      55      12      60\n",
      "10           Player 10      F      40      50      70\n",
      "\n",
      "DataFrame with Total Marks:\n",
      "                  Name Gender  Marks1  Marks2  Marks3  Total Marks\n",
      "Roll Number                                                       \n",
      "1             Player 1      F      45      67      78          190\n",
      "2             Player 2      M      78      45      90          213\n",
      "3             Player 3      M      56      78      67          201\n",
      "4             Player 4      M      34      23      45          102\n",
      "5             Player 5      F      89      56      88          233\n",
      "6             Player 6      M      67      89      76          232\n",
      "7             Player 7      F      23      34      54          111\n",
      "8             Player 8      F      90      90      92          272\n",
      "9             Player 9      M      55      12      60          127\n",
      "10           Player 10      F      40      50      70          160\n",
      "\n",
      "Lowest Marks in Marks1: 23\n",
      "Highest Marks in Marks2: 90\n",
      "Average Marks in Marks3: 72.0\n",
      "Student with Highest Average Marks: Player 8\n",
      "Number of students failed in Marks2 (<40): 3\n"
     ]
    }
   ],
   "source": [
    "data = {\n",
    "    'Roll Number': [1, 2, 3, 4, 5, 6, 7, 8, 9, 10],\n",
    "    'Name': ['Player 1','Player 2','Player 3','Player 4','Player 5','Player 6','Player 7','Player 8','Player 9','Player 10'],\n",
    "    'Gender': ['F', 'M', 'M', 'M', 'F', 'M', 'F', 'F', 'M', 'F'],\n",
    "    'Marks1': [45, 78, 56, 34, 89, 67, 23, 90, 55, 40],\n",
    "    'Marks2': [67, 45, 78, 23, 56, 89, 34, 90, 12, 50],\n",
    "    'Marks3': [78, 90, 67, 45, 88, 76, 54, 92, 60, 70]\n",
    "}\n",
    "\n",
    "df = pd.DataFrame(data)\n",
    "df.set_index('Roll Number', inplace=True)\n",
    "print(\"Student DataFrame:\")\n",
    "print(df)\n",
    "\n",
    "df['Total Marks'] = df['Marks1']+df['Marks2']+df['Marks3']\n",
    "print(\"\\nDataFrame with Total Marks:\")\n",
    "print(df)\n",
    "\n",
    "low_marks1 = df['Marks1'].min()\n",
    "print(\"\\nLowest Marks in Marks1:\", low_marks1)\n",
    "\n",
    "high_marks2 = df['Marks2'].max()\n",
    "print(\"Highest Marks in Marks2:\", high_marks2)\n",
    "\n",
    "avg_marks3 = df['Marks3'].mean()\n",
    "print(\"Average Marks in Marks3:\", avg_marks3)\n",
    "\n",
    "df['Average'] = df[['Marks1', 'Marks2', 'Marks3']].mean(axis=1)\n",
    "highest_avg = df.loc[df['Average'].idxmax(), 'Name']\n",
    "print(\"Student with Highest Average Marks:\", highest_avg)\n",
    "\n",
    "failed = df[df['Marks2'] < 40].shape[0]\n",
    "print(\"Number of students failed in Marks2 (<40):\", failed)"
   ]
  }
 ],
 "metadata": {
  "kernelspec": {
   "display_name": "Python [conda env:base] *",
   "language": "python",
   "name": "conda-base-py"
  },
  "language_info": {
   "codemirror_mode": {
    "name": "ipython",
    "version": 3
   },
   "file_extension": ".py",
   "mimetype": "text/x-python",
   "name": "python",
   "nbconvert_exporter": "python",
   "pygments_lexer": "ipython3",
   "version": "3.12.7"
  }
 },
 "nbformat": 4,
 "nbformat_minor": 5
}
