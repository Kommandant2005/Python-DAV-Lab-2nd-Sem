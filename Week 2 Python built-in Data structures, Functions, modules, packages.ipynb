{
 "cells": [
  {
   "cell_type": "code",
   "execution_count": 1,
   "id": "e8988338",
   "metadata": {},
   "outputs": [],
   "source": [
    "# Data Visualization\n",
    "# BTech Computer Science Stream , January 2025\n",
    "# Week 2 Python built-in Data structures, Functions, modules, packages \n",
    "# Name: Param Shah , Reg No,: 240905320 , Date: 20/1/2025 "
   ]
  },
  {
   "cell_type": "code",
   "execution_count": 2,
   "id": "4c8bcd38",
   "metadata": {},
   "outputs": [],
   "source": [
    "# Question 1"
   ]
  },
  {
   "cell_type": "code",
   "execution_count": 2,
   "id": "ec2222b1",
   "metadata": {},
   "outputs": [
    {
     "name": "stdout",
     "output_type": "stream",
     "text": [
      "Enter a number or -1 to finish inputting: 23\n",
      "Enter a number or -1 to finish inputting: 34\n",
      "Enter a number or -1 to finish inputting: 45\n",
      "Enter a number or -1 to finish inputting: 56\n",
      "Enter a number or -1 to finish inputting: 67\n",
      "Enter a number or -1 to finish inputting: 78\n",
      "Enter a number or -1 to finish inputting: 89\n",
      "Enter a number or -1 to finish inputting: -1\n",
      "Largest number: 89\n",
      "Smallest number: 23\n",
      "Sum of nums: 392\n",
      "Average of nums: 56.0\n",
      "Enter a number to count its occurrences: 23\n",
      "The number 23 occurs 1 times in the list.\n"
     ]
    }
   ],
   "source": [
    "def stats(nums):\n",
    "    if not nums:\n",
    "        print(\"No nums were entered.\")\n",
    "        return\n",
    "    largest = max(nums)\n",
    "    smallest = min(nums)\n",
    "    total_sum = sum(nums)\n",
    "    average = total_sum / len(nums)\n",
    "    print(f\"Largest number: {largest}\")\n",
    "    print(f\"Smallest number: {smallest}\")\n",
    "    print(f\"Sum of nums: {total_sum}\")\n",
    "    print(f\"Average of nums: {average}\")\n",
    "    specific_number = int(input(\"Enter a number to count its occurrences: \"))\n",
    "    occurrences = nums.count(specific_number)\n",
    "    print(f\"The number {specific_number} occurs {occurrences} times in the list.\")\n",
    "nums = []\n",
    "while True:\n",
    "    inp = input(\"Enter a number or -1 to finish inputting: \")\n",
    "    if inp.lower() == \"-1\":\n",
    "        break\n",
    "    nums.append(int(inp))\n",
    "\n",
    "stats(nums)"
   ]
  },
  {
   "cell_type": "code",
   "execution_count": null,
   "id": "9f25d67b",
   "metadata": {},
   "outputs": [],
   "source": [
    "# Question 2"
   ]
  },
  {
   "cell_type": "code",
   "execution_count": 1,
   "id": "ccb1ccde",
   "metadata": {},
   "outputs": [
    {
     "name": "stdout",
     "output_type": "stream",
     "text": [
      "Tuple is an immutable data structure\n"
     ]
    }
   ],
   "source": [
    "a=tuple([1,2,3,4,5])\n",
    "try:\n",
    "    a[0]=10\n",
    "except TypeError:\n",
    "    print(\"Tuple is an immutable data structure\")"
   ]
  },
  {
   "cell_type": "code",
   "execution_count": null,
   "id": "27eea4f9",
   "metadata": {},
   "outputs": [],
   "source": [
    "# Question 3"
   ]
  },
  {
   "cell_type": "code",
   "execution_count": 1,
   "id": "e31d2053",
   "metadata": {},
   "outputs": [
    {
     "name": "stdout",
     "output_type": "stream",
     "text": [
      "{'West Indies': 2, 'India': 2, 'Australia': 6, 'Pakistan': 1, 'Sri Lanka': 1, 'England': 1}\n",
      "\n",
      "\n",
      "Australia\n",
      "\n",
      "\n",
      "{'India', 'West Indies', 'Pakistan', 'Australia', 'England', 'Sri Lanka'}\n"
     ]
    }
   ],
   "source": [
    "winners = {\n",
    "    1975: 'West Indies',\n",
    "    1979: 'West Indies',\n",
    "    1983: 'India',\n",
    "    1987: 'Australia',\n",
    "    1992: 'Pakistan',\n",
    "    1996: 'Sri Lanka',\n",
    "    1999: 'Australia',\n",
    "    2003: 'Australia',\n",
    "    2007: 'Australia',\n",
    "    2011: 'India',\n",
    "    2015: 'Australia',\n",
    "    2019: 'England',\n",
    "    2023: 'Australia'\n",
    "}\n",
    "\n",
    "win_count={}\n",
    "for count in winners.values():\n",
    "    if count in win_count:\n",
    "        win_count[count]+=1\n",
    "    else:\n",
    "        win_count[count]=1\n",
    "print(win_count)\n",
    "print(\"\\n\")\n",
    "best=max(win_count,key=win_count.get)\n",
    "print(best)\n",
    "print(\"\\n\")\n",
    "winners=set(winners.values())\n",
    "print(winners)\n"
   ]
  },
  {
   "cell_type": "code",
   "execution_count": null,
   "id": "76d1acc4",
   "metadata": {},
   "outputs": [],
   "source": [
    "# Question 4"
   ]
  },
  {
   "cell_type": "code",
   "execution_count": 12,
   "id": "6ffda9d0",
   "metadata": {},
   "outputs": [
    {
     "name": "stdout",
     "output_type": "stream",
     "text": [
      "hello my name is is is param\n",
      "{'hello': 1, 'my': 1, 'name': 1, 'is': 3, 'param': 1}\n"
     ]
    }
   ],
   "source": [
    "a=input().split(\" \")\n",
    "count={}\n",
    "for i in a:\n",
    "    if i in count:\n",
    "        count[i]+=1\n",
    "    else:\n",
    "        count[i]=1\n",
    "print(count)"
   ]
  },
  {
   "cell_type": "code",
   "execution_count": null,
   "id": "7ff1b0a9",
   "metadata": {},
   "outputs": [],
   "source": [
    "# Question 5"
   ]
  },
  {
   "cell_type": "code",
   "execution_count": 21,
   "id": "9b37aaab",
   "metadata": {},
   "outputs": [
    {
     "name": "stdout",
     "output_type": "stream",
     "text": [
      "Enter first list or -1 to finish inputting: 1\n",
      "Enter first list or -1 to finish inputting: 2\n",
      "Enter first list or -1 to finish inputting: 3\n",
      "Enter first list or -1 to finish inputting: 4\n",
      "Enter first list or -1 to finish inputting: 5\n",
      "Enter first list or -1 to finish inputting: -1\n",
      "Enter second list or -1 to finish inputting: 6\n",
      "Enter second list or -1 to finish inputting: 7\n",
      "Enter second list or -1 to finish inputting: 8\n",
      "Enter second list or -1 to finish inputting: 9\n",
      "Enter second list or -1 to finish inputting: 0\n",
      "Enter second list or -1 to finish inputting: -1\n",
      "{0, 1, 2, 3, 4, 5, 6, 7, 8, 9}\n",
      "set()\n",
      "{1, 2, 3, 4, 5}\n"
     ]
    }
   ],
   "source": [
    "nums1=[]\n",
    "nums2=[]\n",
    "while True:\n",
    "    inp = input(\"Enter first list or -1 to finish inputting: \")\n",
    "    if inp.lower() == \"-1\":\n",
    "        break\n",
    "    nums1.append(int(inp))\n",
    "\n",
    "while True:\n",
    "    inp = input(\"Enter second list or -1 to finish inputting: \")\n",
    "    if inp.lower() == \"-1\":\n",
    "        break\n",
    "    nums2.append(int(inp))\n",
    "    \n",
    "nums1=set(nums1)\n",
    "nums2=set(nums2)\n",
    "print(nums1.union(nums2))\n",
    "print(nums1.intersection(nums2))\n",
    "print(nums1.difference(nums2))"
   ]
  },
  {
   "cell_type": "code",
   "execution_count": null,
   "id": "be386a20",
   "metadata": {},
   "outputs": [],
   "source": []
  }
 ],
 "metadata": {
  "kernelspec": {
   "display_name": "Python [conda env:base] *",
   "language": "python",
   "name": "conda-base-py"
  },
  "language_info": {
   "codemirror_mode": {
    "name": "ipython",
    "version": 3
   },
   "file_extension": ".py",
   "mimetype": "text/x-python",
   "name": "python",
   "nbconvert_exporter": "python",
   "pygments_lexer": "ipython3",
   "version": "3.12.7"
  }
 },
 "nbformat": 4,
 "nbformat_minor": 5
}
