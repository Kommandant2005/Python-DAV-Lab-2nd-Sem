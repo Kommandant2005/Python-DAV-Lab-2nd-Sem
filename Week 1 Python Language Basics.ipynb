{
 "cells": [
  {
   "cell_type": "code",
   "execution_count": 1,
   "id": "c5ffc42f",
   "metadata": {
    "slideshow": {
     "slide_type": "slide"
    }
   },
   "outputs": [],
   "source": [
    "# Data Visualization\n",
    "# BTech Computer Science Stream , January 2025\n",
    "# Week 1 Python Language Basics\n",
    "# Name: Param Shah , Reg No: 240905320 , Date: 6/1/2025 "
   ]
  },
  {
   "cell_type": "code",
   "execution_count": 2,
   "id": "b2c29625",
   "metadata": {},
   "outputs": [],
   "source": [
    "# Question 1"
   ]
  },
  {
   "cell_type": "code",
   "execution_count": 2,
   "id": "d4ab0cd8",
   "metadata": {},
   "outputs": [
    {
     "name": "stdout",
     "output_type": "stream",
     "text": [
      "Enter First Number\n",
      "23\n",
      "Enter Second Number\n",
      "34\n",
      "Enter Operation to perform\n",
      "+\n",
      "57\n"
     ]
    }
   ],
   "source": [
    "print(\"Enter First Number\")\n",
    "a=int(input())\n",
    "print(\"Enter Second Number\")\n",
    "b=int(input())\n",
    "print(\"Enter Operation to perform\")\n",
    "c=input()\n",
    "if c==\"+\":\n",
    "    print(a+b)\n",
    "elif c==\"-\":\n",
    "    print(a-b)\n",
    "elif c==\"*\":\n",
    "    print(a*b)\n",
    "else:\n",
    "    try:\n",
    "        print(a/b)\n",
    "    except ZeroDivisionError:\n",
    "        print(\"Cant divide by 0\")"
   ]
  },
  {
   "cell_type": "code",
   "execution_count": null,
   "id": "bd6e4cfb",
   "metadata": {},
   "outputs": [],
   "source": [
    "# Question 2"
   ]
  },
  {
   "cell_type": "code",
   "execution_count": null,
   "id": "b1851312",
   "metadata": {},
   "outputs": [],
   "source": [
    "num=int(input())\n",
    "flag=0\n",
    "for i in range(2,num):\n",
    "    if num%i==0:\n",
    "        flag=1\n",
    "        break\n",
    "    \n",
    "if flag:\n",
    "    print(\"The Number Is Not A Prime Number\")\n",
    "else:\n",
    "    print(\"The Number Is Prime Number\")\n"
   ]
  },
  {
   "cell_type": "code",
   "execution_count": null,
   "id": "6e1e04ba",
   "metadata": {},
   "outputs": [],
   "source": [
    "# Question 3"
   ]
  },
  {
   "cell_type": "code",
   "execution_count": null,
   "id": "b25bc415",
   "metadata": {},
   "outputs": [],
   "source": [
    "sum=0\n",
    "for i in range(1,101):\n",
    "    if i%2==0:\n",
    "        sum+=i\n",
    "    else:\n",
    "        print(i,end=\" \")\n",
    "print(\"\\n\")\n",
    "print(\"The sum of even numbers is\",sum)"
   ]
  },
  {
   "cell_type": "code",
   "execution_count": null,
   "id": "7fca3471",
   "metadata": {},
   "outputs": [],
   "source": [
    "# Question 4"
   ]
  },
  {
   "cell_type": "code",
   "execution_count": null,
   "id": "060c06de",
   "metadata": {},
   "outputs": [],
   "source": [
    "print(\"Enter the datatypes of the input\")\n",
    "print(\"1. Strings\")\n",
    "print(\"2. Integers\")\n",
    "print(\"3. Floats\")\n",
    "c=int(input())\n",
    "if c==1:\n",
    "    a=input()\n",
    "    b=input()\n",
    "    print(a+b)\n",
    "elif c==2:\n",
    "    a=int(input())\n",
    "    b=int(input())\n",
    "    print(a+b)\n",
    "elif c==3:\n",
    "    a=float(input())\n",
    "    b=float(input())\n",
    "    print(a+b)\n",
    "else: \n",
    "    print(\"Enter a valid choice\")\n"
   ]
  },
  {
   "cell_type": "code",
   "execution_count": null,
   "id": "ac6bbc9a",
   "metadata": {},
   "outputs": [],
   "source": [
    "# Question 5"
   ]
  },
  {
   "cell_type": "code",
   "execution_count": null,
   "id": "ce296233",
   "metadata": {},
   "outputs": [],
   "source": [
    "a = input(\"Enter a string: \")\n",
    "vowels = ['a', 'e', 'i', 'o', 'u', 'A', 'I', 'E', 'O', 'U']\n",
    "vowel, consonant = 0, 0\n",
    "for i in a:\n",
    "    if i.isalpha():\n",
    "        if i in vowels:\n",
    "            vowel += 1\n",
    "        else:\n",
    "            consonant += 1\n",
    "print(\"The number of consonants in the string is\",consonant)\n",
    "print(\"The number of vowels in the string is\",vowel)"
   ]
  },
  {
   "cell_type": "code",
   "execution_count": null,
   "id": "96827f59",
   "metadata": {},
   "outputs": [],
   "source": [
    "a=10\n",
    "b=20\n",
    "a,b=b,a\n",
    "print(a)\n",
    "print(b)"
   ]
  },
  {
   "cell_type": "code",
   "execution_count": null,
   "id": "109ef249",
   "metadata": {},
   "outputs": [],
   "source": [
    "a=30\n",
    "b=40\n",
    "temp=a\n",
    "a=b\n",
    "b=temp\n",
    "print(a)\n",
    "print(b)"
   ]
  },
  {
   "cell_type": "code",
   "execution_count": null,
   "id": "3f3b6d7f",
   "metadata": {},
   "outputs": [],
   "source": [
    "a=50\n",
    "b=60\n",
    "a=a-b\n",
    "b=a+b\n",
    "a=b-a\n",
    "print(a)\n",
    "print(b)"
   ]
  },
  {
   "cell_type": "code",
   "execution_count": null,
   "id": "97936f08",
   "metadata": {},
   "outputs": [],
   "source": []
  }
 ],
 "metadata": {
  "kernelspec": {
   "display_name": "Python [conda env:base] *",
   "language": "python",
   "name": "conda-base-py"
  },
  "language_info": {
   "codemirror_mode": {
    "name": "ipython",
    "version": 3
   },
   "file_extension": ".py",
   "mimetype": "text/x-python",
   "name": "python",
   "nbconvert_exporter": "python",
   "pygments_lexer": "ipython3",
   "version": "3.12.7"
  }
 },
 "nbformat": 4,
 "nbformat_minor": 5
}
