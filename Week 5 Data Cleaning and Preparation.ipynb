{
 "cells": [
  {
   "cell_type": "code",
   "execution_count": 1,
   "id": "0ff24a0e-cae1-4ebc-8af4-6cb6b5c0c87e",
   "metadata": {},
   "outputs": [],
   "source": [
    "# Data Visualization\n",
    "# BTech Computer Science Stream , January 2025\n",
    "# Week 5 Data Cleaning and Preparation\n",
    "# Name: Param Shah , Reg No: 240905320 , Date: 10/1/2025 "
   ]
  },
  {
   "cell_type": "code",
   "execution_count": 3,
   "id": "4fe0eedc-3697-4a40-be55-eeceb283344e",
   "metadata": {},
   "outputs": [],
   "source": [
    "import pandas as pd"
   ]
  },
  {
   "cell_type": "code",
   "execution_count": 5,
   "id": "1638120f-2959-4d4b-9eef-c3529561caf3",
   "metadata": {},
   "outputs": [],
   "source": [
    "import numpy as np"
   ]
  },
  {
   "cell_type": "code",
   "execution_count": null,
   "id": "0b34e205-5a91-4410-92d5-9a356e4fe79b",
   "metadata": {},
   "outputs": [],
   "source": [
    "# Question 1"
   ]
  },
  {
   "cell_type": "code",
   "execution_count": 25,
   "id": "20685ff8-5df3-4b9e-bb4a-970dc93f2e99",
   "metadata": {},
   "outputs": [
    {
     "name": "stdout",
     "output_type": "stream",
     "text": [
      "          Movie Name Language     Genre  Rating                       Review\n",
      "0          Inception  English    Sci-Fi     9.0        Mind-bending thriller\n",
      "1             Dangal    Hindi    Sports     8.5             Inspiring biopic\n",
      "2           Parasite   Korean  Thriller     8.6  Brilliant social commentary\n",
      "3       Interstellar  English    Sci-Fi     8.7            Visually stunning\n",
      "4           3 Idiots    Hindi    Comedy     8.4           Heartwarming story\n",
      "5    The Dark Knight  English    Action     9.1            Best Batman movie\n",
      "6             Lagaan    Hindi     Drama     8.2            Epic sports drama\n",
      "7            Titanic  English   Romance     7.8           Classic love story\n",
      "8             Sholay    Hindi    Action     8.3            Bollywood classic\n",
      "9  Avengers: Endgame  English    Action     8.4              Epic conclusion\n",
      "\n",
      "\n",
      "Highest Rated Movie:\n",
      " Movie Name      The Dark Knight\n",
      "Language                English\n",
      "Genre                    Action\n",
      "Rating                      9.1\n",
      "Review        Best Batman movie\n",
      "Name: 5, dtype: object\n",
      "\n",
      "\n",
      "HindiMovies.csv file created successfully.\n"
     ]
    }
   ],
   "source": [
    "df = pd.read_csv(\"Movies.csv\")\n",
    "print(df)\n",
    "print(\"\\n\")\n",
    "highest_rated_movie = df.loc[df[\"Rating\"].idxmax()]\n",
    "print(\"Highest Rated Movie:\\n\", highest_rated_movie)\n",
    "print(\"\\n\")\n",
    "hindi_movies = df[df[\"Language\"] == \"Hindi\"]\n",
    "hindi_movies.to_csv(\"HindiMovies.csv\", index=False)\n",
    "print(\"HindiMovies.csv file created successfully.\")"
   ]
  },
  {
   "cell_type": "code",
   "execution_count": null,
   "id": "972f0d04-a1b6-4f04-851a-833c6b2683f9",
   "metadata": {},
   "outputs": [],
   "source": [
    "# Question 2"
   ]
  },
  {
   "cell_type": "code",
   "execution_count": 27,
   "id": "4952b351-bf83-4b3c-9342-bf639cfc64eb",
   "metadata": {},
   "outputs": [
    {
     "name": "stdout",
     "output_type": "stream",
     "text": [
      "     calories  protein  fat  sodium  fiber  carbo  sugars  potass  vitamins  \\\n",
      "min      50.0      1.0  0.0     0.0   0.00   -1.0    -1.0    -1.0       0.0   \n",
      "25%     100.0      2.0  0.0   132.5   0.75   12.0     3.0    40.0      25.0   \n",
      "50%     110.0      2.5  1.0   180.0   1.75   14.5     7.0    90.0      25.0   \n",
      "75%     110.0      3.0  2.0   212.5   3.00   17.0    11.0   120.0      25.0   \n",
      "max     160.0      6.0  5.0   320.0  14.00   23.0    15.0   330.0     100.0   \n",
      "\n",
      "     shelf  weight  cups     rating  \n",
      "min    1.0     0.5  0.25  18.042851  \n",
      "25%    1.0     1.0  0.67  32.932466  \n",
      "50%    2.0     1.0  0.75  40.253086  \n",
      "75%    3.0     1.0  1.00  50.780847  \n",
      "max    3.0     1.5  1.50  93.704912  \n",
      "\n",
      "\n",
      "     calories  protein  fat  sodium  fiber      carbo  sugars  potass  \\\n",
      "min      50.0      1.0  0.0     0.0   0.00   7.000000     0.0   15.00   \n",
      "25%     100.0      2.0  0.0   132.5   0.75  12.000000     3.0   43.75   \n",
      "50%     110.0      2.5  1.0   180.0   1.75  14.966667     7.0   90.00   \n",
      "75%     110.0      3.0  2.0   212.5   3.00  17.000000    11.0  120.00   \n",
      "max     160.0      6.0  5.0   320.0  14.00  23.000000    15.0  330.00   \n",
      "\n",
      "     vitamins  shelf  weight  cups     rating  \n",
      "min       0.0    1.0     0.5  0.25  18.042851  \n",
      "25%      25.0    1.0     1.0  0.67  32.932466  \n",
      "50%      25.0    2.0     1.0  0.75  40.253086  \n",
      "75%      25.0    3.0     1.0  1.00  50.780847  \n",
      "max     100.0    3.0     1.5  1.50  93.704912  \n",
      "\n",
      "\n",
      "     calories  protein   fat  sodium  fiber  carbo  sugars  potass  vitamins  \\\n",
      "min      50.0     1.00  0.00     0.0  0.000   7.00    0.00   15.00       0.0   \n",
      "25%     100.0     2.00  0.00   132.5  0.750  12.00    3.00   43.75      25.0   \n",
      "50%     110.0     2.25  1.00   180.0  1.625  14.95    7.00   90.00      25.0   \n",
      "75%     110.0     3.00  1.25   210.0  3.000  17.00   10.25  116.25      25.0   \n",
      "max     160.0     5.00  3.00   290.0  9.000  22.00   14.00  320.00      25.0   \n",
      "\n",
      "     shelf  weight  cups     rating  \n",
      "min    1.0     0.5  0.25  18.042851  \n",
      "25%    1.0     1.0  0.67  32.932466  \n",
      "50%    2.0     1.0  0.75  40.253086  \n",
      "75%    3.0     1.0  1.00  50.780847  \n",
      "max    3.0     1.5  1.50  93.704912  \n",
      "\n",
      "\n"
     ]
    }
   ],
   "source": [
    "df = pd.read_csv(\"Cereals.csv\")\n",
    "numeric_columns = df.select_dtypes(include=[\"int64\", \"float64\"]).columns\n",
    "initial_summary = df[numeric_columns].describe().loc[[\"min\", \"25%\", \"50%\", \"75%\", \"max\"]]\n",
    "print(initial_summary)\n",
    "print(\"\\n\")\n",
    "for col in [\"protein\", \"fat\", \"sodium\", \"fiber\", \"carbo\", \"sugars\", \"potass\", \"vitamins\"]:\n",
    "    mean_value = df[df[col] != -1][col].mean()\n",
    "    df[col] = df[col].replace(-1, mean_value)\n",
    "after_missing_values_summary = df[numeric_columns].describe().loc[[\"min\", \"25%\", \"50%\", \"75%\", \"max\"]]\n",
    "print(after_missing_values_summary)\n",
    "print(\"\\n\")\n",
    "for col in [\"protein\", \"fat\", \"sodium\", \"fiber\", \"carbo\", \"sugars\", \"potass\", \"vitamins\"]:\n",
    "    median_value = df[col].median()\n",
    "    df[col] = df[col].replace(df[col].max(), median_value)\n",
    "after_noisy_values_summary = df[numeric_columns].describe().loc[[\"min\", \"25%\", \"50%\", \"75%\", \"max\"]]\n",
    "print(after_noisy_values_summary)\n",
    "print(\"\\n\")"
   ]
  }
 ],
 "metadata": {
  "kernelspec": {
   "display_name": "Python [conda env:base] *",
   "language": "python",
   "name": "conda-base-py"
  },
  "language_info": {
   "codemirror_mode": {
    "name": "ipython",
    "version": 3
   },
   "file_extension": ".py",
   "mimetype": "text/x-python",
   "name": "python",
   "nbconvert_exporter": "python",
   "pygments_lexer": "ipython3",
   "version": "3.12.7"
  }
 },
 "nbformat": 4,
 "nbformat_minor": 5
}
