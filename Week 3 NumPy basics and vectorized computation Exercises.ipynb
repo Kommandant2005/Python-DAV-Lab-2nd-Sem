{
 "cells": [
  {
   "cell_type": "code",
   "execution_count": 1,
   "id": "48ab9d42-5ec0-413d-82a8-33c558c869e9",
   "metadata": {},
   "outputs": [],
   "source": [
    "# Data Visualization\n",
    "# BTech Computer Science Stream , January 2025\n",
    "# Week 3: NumPy basics and vectorized computation Exercises\n",
    "# Name: Param Shah , Reg No: 240905320 , Date: 27/1/2025 "
   ]
  },
  {
   "cell_type": "code",
   "execution_count": 3,
   "id": "bce6da57-e6a4-4800-ac5c-fd2924ec665a",
   "metadata": {},
   "outputs": [],
   "source": [
    "# Question 1"
   ]
  },
  {
   "cell_type": "code",
   "execution_count": 25,
   "id": "1dde18db-9b96-417a-947c-57198e91eb65",
   "metadata": {},
   "outputs": [
    {
     "name": "stdout",
     "output_type": "stream",
     "text": [
      "[[27  8  4  9]\n",
      " [21 50 44 20]\n",
      " [23 42 11 38]]\n",
      "\n",
      "Mean: 24.75\n",
      "Median: 22.0\n",
      "Standard Deviation: 14.928300863349005\n",
      "\n",
      "Sum of all elements: 297\n",
      "Sum of each row: [ 48 135 114]\n",
      "\n",
      "Reshaped 2x6 Array:\n",
      "[[27  8  4  9 21 50]\n",
      " [44 20 23 42 11 38]]\n"
     ]
    }
   ],
   "source": [
    "import numpy as np\n",
    "\n",
    "arr = np.random.randint(1, 51, size=(3, 4))\n",
    "print(arr)\n",
    "\n",
    "mean = np.mean(arr)\n",
    "median = np.median(arr)\n",
    "std_dev = np.std(arr)\n",
    "\n",
    "print(\"\\nMean:\", mean)\n",
    "print(\"Median:\", median)\n",
    "print(\"Standard Deviation:\", std_dev)\n",
    "\n",
    "total_sum = np.sum(arr)\n",
    "row_sums = np.sum(arr, axis=1)\n",
    "\n",
    "print(\"\\nSum of all elements:\", total_sum)\n",
    "print(\"Sum of each row:\", row_sums)\n",
    "\n",
    "arr = arr.reshape(2, 6)\n",
    "print(\"\\nReshaped 2x6 Array:\")\n",
    "print(arr)"
   ]
  },
  {
   "cell_type": "code",
   "execution_count": 27,
   "id": "1e4a550c-f323-4cd6-9fc9-30d2147d83ae",
   "metadata": {},
   "outputs": [],
   "source": [
    "# Question 2"
   ]
  },
  {
   "cell_type": "code",
   "execution_count": 29,
   "id": "668284f7-825b-438a-8b0f-bb95488f4ba1",
   "metadata": {},
   "outputs": [
    {
     "name": "stdout",
     "output_type": "stream",
     "text": [
      "[[7 4 3]\n",
      " [2 3 9]\n",
      " [3 1 7]]\n",
      "\n",
      "\n",
      "[[7 7 3]\n",
      " [7 5 1]\n",
      " [3 7 6]]\n",
      "\n",
      "\n",
      "Sum\n",
      "\n",
      "[[14 11  6]\n",
      " [ 9  8 10]\n",
      " [ 6  8 13]]\n",
      "\n",
      "\n",
      "Difference\n",
      "\n",
      "[[ 0 -3  0]\n",
      " [-5 -2  8]\n",
      " [ 0 -6  1]]\n",
      "\n",
      "\n",
      "Element wise Multiplication\n",
      "\n",
      "[[49 28  9]\n",
      " [14 15  9]\n",
      " [ 9  7 42]]\n",
      "\n",
      "\n",
      "Dot Multiplication\n",
      "\n",
      "[[86 90 43]\n",
      " [62 92 63]\n",
      " [49 75 52]]\n",
      "\n",
      "Transpose of Matrix arr1:\n",
      "[[7 2 3]\n",
      " [4 3 1]\n",
      " [3 9 7]]\n",
      "\n",
      "Transpose of Matrix arr2:\n",
      "[[7 7 3]\n",
      " [7 5 7]\n",
      " [3 1 6]]\n",
      "\n",
      "Inverse of Matrix arr1:\n",
      "[[ 0.10434783 -0.2173913   0.23478261]\n",
      " [ 0.11304348  0.34782609 -0.49565217]\n",
      " [-0.06086957  0.04347826  0.11304348]]\n",
      "\n",
      "Inverse of Matrix arr2:\n",
      "[[-2.3  2.1  0.8]\n",
      " [ 3.9 -3.3 -1.4]\n",
      " [-3.4  2.8  1.4]]\n"
     ]
    }
   ],
   "source": [
    "import numpy as np\n",
    "\n",
    "arr1 = np.random.randint(1,10,size=(3,3))\n",
    "arr2 = np.random.randint(1,10,size=(3,3))\n",
    "\n",
    "print(arr1)\n",
    "print(\"\\n\")\n",
    "print(arr2)\n",
    "print(\"\\n\")\n",
    "print(\"Sum\\n\")\n",
    "print(arr1 + arr2)\n",
    "print(\"\\n\")\n",
    "print(\"Difference\\n\")\n",
    "print(arr1 - arr2)\n",
    "print(\"\\n\")\n",
    "print(\"Element wise Multiplication\\n\")\n",
    "print(arr1 * arr2)\n",
    "print(\"\\n\")\n",
    "print(\"Dot Multiplication\\n\")\n",
    "print(np.dot(arr1,arr2))\n",
    "transpose_arr1 = np.transpose(arr1)\n",
    "transpose_arr2 = np.transpose(arr2)\n",
    "\n",
    "print(\"\\nTranspose of Matrix arr1:\")\n",
    "print(transpose_arr1)\n",
    "print(\"\\nTranspose of Matrix arr2:\")\n",
    "print(transpose_arr2)\n",
    "\n",
    "det_arr1 = np.linalg.det(arr1)\n",
    "det_arr2 = np.linalg.det(arr2)\n",
    "if det_arr1 != 0:\n",
    "    inverse_arr1 = np.linalg.inv(arr1)\n",
    "    print(\"\\nInverse of Matrix arr1:\")\n",
    "    print(inverse_arr1)\n",
    "else:\n",
    "    print(\"\\nMatrix arr1 is singular and does not have an inverse.\")\n",
    "\n",
    "if det_arr2 != 0:\n",
    "    inverse_arr2 = np.linalg.inv(arr2)\n",
    "    print(\"\\nInverse of Matrix arr2:\")\n",
    "    print(inverse_arr2)\n",
    "else:\n",
    "    print(\"\\nMatrix arr2 is singular and does not have an inverse.\")"
   ]
  },
  {
   "cell_type": "code",
   "execution_count": null,
   "id": "0ba6ac35-c126-401b-abdf-688be333b7ce",
   "metadata": {},
   "outputs": [],
   "source": []
  }
 ],
 "metadata": {
  "kernelspec": {
   "display_name": "Python [conda env:base] *",
   "language": "python",
   "name": "conda-base-py"
  },
  "language_info": {
   "codemirror_mode": {
    "name": "ipython",
    "version": 3
   },
   "file_extension": ".py",
   "mimetype": "text/x-python",
   "name": "python",
   "nbconvert_exporter": "python",
   "pygments_lexer": "ipython3",
   "version": "3.12.7"
  }
 },
 "nbformat": 4,
 "nbformat_minor": 5
}
